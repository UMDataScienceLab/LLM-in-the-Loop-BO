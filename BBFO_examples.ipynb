{
 "cells": [
  {
   "cell_type": "markdown",
   "metadata": {},
   "source": [
    "## Numerical simulation"
   ]
  },
  {
   "cell_type": "code",
   "execution_count": null,
   "metadata": {},
   "outputs": [
    {
     "name": "stderr",
     "output_type": "stream",
     "text": [
      "/Users/chih-yuchang/Library/Python/3.9/lib/python/site-packages/tqdm/auto.py:21: TqdmWarning: IProgress not found. Please update jupyter and ipywidgets. See https://ipywidgets.readthedocs.io/en/stable/user_install.html\n",
      "  from .autonotebook import tqdm as notebook_tqdm\n"
     ]
    }
   ],
   "source": [
    "from LLM_agent_BBFO import *\n",
    "from helper_func import *\n",
    "\n",
    "# define function description\n",
    "desc_hartmann = \"4-dimensional, non-convex, multi-modal and is composed of weighted, anisotropic Gaussian-like bumps centered at different points, making it highly non-separable and challenging to optimize\"\n",
    "desc_levy = \"highly multimodal but with unique global maximum.\"\n",
    "desc_branin = \"smooth, multimodal benchmark with three global maxima\"\n",
    "desc_ackley = \"6-dimensional, non-convex, and multi-modal. The function exhibits a nearly flat outer region and a large hole at the center, resulting in many local optima surrounding a single global optimum. It is highly symmetric and separable in nature, but optimization is still challenging due to the numerous local maxima\"\n",
    "desc_bukin = \"steep, narrow, and highly non-convex landscape with a sharp valley and a unique global maximum\"\n",
    "desc_rastrigin = \" which is highly multimodal, non-convex function with a large number of regularly spaced local minima\""
   ]
  },
  {
   "cell_type": "markdown",
   "metadata": {},
   "source": [
    "## Example usage: Bukin + transient"
   ]
  },
  {
   "cell_type": "code",
   "execution_count": null,
   "metadata": {},
   "outputs": [
    {
     "name": "stderr",
     "output_type": "stream",
     "text": [
      "TRANSIENT: 100%|██████████| 1/1 [00:04<00:00,  4.91s/it]\n"
     ]
    }
   ],
   "source": [
    "objective_type = ['branin_function', 'bukin_n6', 'hartmann4', 'levy_function', 'rastrigin2d', 'ackley6']\n",
    "\n",
    "runner = LLMIBO_BFO(\n",
    "    method='transient',\n",
    "    objective=bukin_n6,\n",
    "    dim=2,\n",
    "    desc=desc_bukin,\n",
    "    T=20,\n",
    "    T_ini=2,\n",
    "    T_rep=1,\n",
    "    verbose=True\n",
    ")\n",
    "\n",
    "histories, regrets = runner.run()"
   ]
  }
 ],
 "metadata": {
  "kernelspec": {
   "display_name": "Python 3",
   "language": "python",
   "name": "python3"
  },
  "language_info": {
   "codemirror_mode": {
    "name": "ipython",
    "version": 3
   },
   "file_extension": ".py",
   "mimetype": "text/x-python",
   "name": "python",
   "nbconvert_exporter": "python",
   "pygments_lexer": "ipython3",
   "version": "3.9.6"
  }
 },
 "nbformat": 4,
 "nbformat_minor": 2
}
